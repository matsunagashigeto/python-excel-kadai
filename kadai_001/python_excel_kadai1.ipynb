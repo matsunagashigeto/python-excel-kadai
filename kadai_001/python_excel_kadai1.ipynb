{
  "nbformat": 4,
  "nbformat_minor": 0,
  "metadata": {
    "colab": {
      "provenance": []
    },
    "kernelspec": {
      "name": "python3",
      "display_name": "Python 3"
    },
    "language_info": {
      "name": "python"
    }
  },
  "cells": [
    {
      "cell_type": "code",
      "execution_count": 1,
      "metadata": {
        "colab": {
          "base_uri": "https://localhost:8080/"
        },
        "id": "LY8Bw_gWLoMJ",
        "outputId": "223c0d8a-d1e9-4b2f-e6ad-e6c6f9862b1a"
      },
      "outputs": [
        {
          "output_type": "stream",
          "name": "stdout",
          "text": [
            "'請求書_2025-08-11.xlsx' を作成しました。\n"
          ]
        }
      ],
      "source": [
        "import openpyxl\n",
        "from openpyxl.styles import Font, Alignment, Border, Side\n",
        "from datetime import datetime\n",
        "\n",
        "# 現在の日付を取得し、指定されたフォーマットに変換\n",
        "current_date = datetime.now().strftime('%Y/%m/%d')\n",
        "\n",
        "# 新しいワークブックを作成\n",
        "wb = openpyxl.Workbook()\n",
        "ws = wb.active\n",
        "\n",
        "# シート名を変更\n",
        "ws.title = \"請求書\"\n",
        "\n",
        "# ヘッダー情報の入力\n",
        "ws['B2'] = '請求書'\n",
        "ws['B4'] = '株式会社ABC'\n",
        "ws['B5'] = '〒101-0022 東京都千代田区神田練塀町300'\n",
        "ws['B6'] = 'TEL:03-1234-5678 FAX:03-1234-5678'\n",
        "ws['B7'] = '担当者名:鈴木一郎 様'\n",
        "ws['F4'] = 'No.'\n",
        "ws['G4'] = '0001'\n",
        "ws['F5'] = '日付'\n",
        "ws['G5'] = current_date\n",
        "\n",
        "# 請求書タイトルのスタイル設定\n",
        "ws['B2'].font = Font(size=24, bold=True)\n",
        "ws['B2'].alignment = Alignment(horizontal='left')\n",
        "\n",
        "# 明細行のヘッダー入力\n",
        "ws['B10'] = '商品名'\n",
        "ws['C10'] = '数量'\n",
        "ws['D10'] = '単価'\n",
        "ws['E10'] = '金額'\n",
        "\n",
        "# 明細行の入力\n",
        "ws['B11'] = '商品A'\n",
        "ws['C11'] = 2\n",
        "ws['D11'] = 10000\n",
        "ws['B12'] = '商品B'\n",
        "ws['C12'] = 1\n",
        "ws['D12'] = 15000\n",
        "\n",
        "# 数式の設定\n",
        "ws['E11'] = '=C11*D11'\n",
        "ws['E12'] = '=C12*D12'\n",
        "\n",
        "# 合計、消費税、税込合計の入力\n",
        "ws['B15'] = '合計'\n",
        "ws['E15'] = '=E11+E12'\n",
        "ws['B16'] = '消費税'\n",
        "ws['E16'] = '=E15*0.1' # 消費税10%として計算\n",
        "ws['B17'] = '税込合計'\n",
        "ws['E17'] = '=E15+E16'\n",
        "\n",
        "# セルの幅を調整\n",
        "ws.column_dimensions['B'].width = 20\n",
        "ws.column_dimensions['C'].width = 10\n",
        "ws.column_dimensions['D'].width = 15\n",
        "ws.column_dimensions['E'].width = 15\n",
        "\n",
        "# 罫線の設定\n",
        "border = Border(top=Side(style='thin'), bottom=Side(style='thin'), left=Side(style='thin'), right=Side(style='thin'))\n",
        "\n",
        "for row in ws['B10':'E12']:\n",
        "    for cell in row:\n",
        "        cell.border = border\n",
        "\n",
        "for row in ws['B15':'E17']:\n",
        "    for cell in row:\n",
        "        cell.border = border\n",
        "\n",
        "# ファイル名を「請求書_YYYY-MM-DD.xlsx」形式で生成\n",
        "file_name = f\"請求書_{datetime.now().strftime('%Y-%m-%d')}.xlsx\"\n",
        "\n",
        "# ファイルを保存\n",
        "wb.save(file_name)\n",
        "\n",
        "print(f\"'{file_name}' を作成しました。\")"
      ]
    }
  ]
}