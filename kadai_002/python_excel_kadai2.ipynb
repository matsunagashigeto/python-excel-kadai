{
  "nbformat": 4,
  "nbformat_minor": 0,
  "metadata": {
    "colab": {
      "provenance": []
    },
    "kernelspec": {
      "name": "python3",
      "display_name": "Python 3"
    },
    "language_info": {
      "name": "python"
    }
  },
  "cells": [
    {
      "cell_type": "code",
      "execution_count": 1,
      "metadata": {
        "colab": {
          "base_uri": "https://localhost:8080/"
        },
        "id": "dhLNb5bdTSZv",
        "outputId": "5f19c8e6-defc-4d3c-c5b4-a6371edfab2a"
      },
      "outputs": [
        {
          "output_type": "stream",
          "name": "stdout",
          "text": [
            "'業績.xlsx' を作成しました。\n"
          ]
        }
      ],
      "source": [
        "import pandas as pd\n",
        "\n",
        "def performance(sales, average_sales):\n",
        "    \"\"\"\n",
        "    売上と平均売上を比較し、業績ランク（A, B, C）を返す\n",
        "    \"\"\"\n",
        "    if sales >= average_sales + 50:\n",
        "        return 'A'\n",
        "    elif sales >= average_sales:\n",
        "        return 'B'\n",
        "    else:\n",
        "        return 'C'\n",
        "\n",
        "# データ\n",
        "data = {\n",
        "    '日付': ['2023-05-17', '2023-05-18', '2023-05-19', '2023-05-20', '2023-05-21'],\n",
        "    '社員名': ['山田', '佐藤', '鈴木', '田中', '高橋'],\n",
        "    '売上': [100, 200, 150, 300, 250],\n",
        "    '部門': ['メーカー', '代理店', 'メーカー', '商社', '代理店']\n",
        "}\n",
        "\n",
        "# DataFrameを作成\n",
        "df = pd.DataFrame(data)\n",
        "\n",
        "# 全売上の平均を計算\n",
        "average_sales = df['売上'].mean()\n",
        "\n",
        "# 平均売上をDataFrameに新しい列として追加\n",
        "df['平均売上'] = average_sales\n",
        "\n",
        "# 業績ランクを計算し、新しい列として追加\n",
        "df['業績ランク'] = df['売上'].apply(lambda x: performance(x, average_sales))\n",
        "\n",
        "# Excelファイルに出力\n",
        "file_name = \"業績.xlsx\"\n",
        "df.to_excel(file_name, index=False, engine='openpyxl')\n",
        "\n",
        "print(f\"'{file_name}' を作成しました。\")"
      ]
    }
  ]
}