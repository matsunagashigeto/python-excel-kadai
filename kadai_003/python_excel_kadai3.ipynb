{
  "nbformat": 4,
  "nbformat_minor": 0,
  "metadata": {
    "colab": {
      "provenance": []
    },
    "kernelspec": {
      "name": "python3",
      "display_name": "Python 3"
    },
    "language_info": {
      "name": "python"
    }
  },
  "cells": [
    {
      "cell_type": "code",
      "source": [
        "import pandas as pd\n",
        "import openpyxl\n",
        "from openpyxl.styles import Border, Side, PatternFill\n",
        "from openpyxl.utils.dataframe import dataframe_to_rows\n",
        "\n",
        "# 2つのExcelファイルをpandasで読み込む\n",
        "try:\n",
        "    df_2022 = pd.read_excel('2022_年間売上表.xlsx')\n",
        "    df_2023 = pd.read_excel('2023_年間売上表.xlsx')\n",
        "except FileNotFoundError as e:\n",
        "    print(f\"ファイルが見つかりません。プログラムと同じディレクトリにExcelファイルを配置してください。エラー: {e}\")\n",
        "    exit()\n",
        "\n",
        "# データを連結する\n",
        "combined_df = pd.concat([df_2022, df_2023], ignore_index=True)\n",
        "\n",
        "# 「商品」と「売上年」でグループ化し、「金額（千円）」を合計する\n",
        "grouped_df = combined_df.groupby(['商品', '売上年'], as_index=False).sum()\n",
        "\n",
        "# openpyxlで新しいワークブックとシートを作成\n",
        "wb = openpyxl.Workbook()\n",
        "ws = wb.active\n",
        "ws.title = \"売上集計\"\n",
        "\n",
        "# pandasのDataFrameをopenpyxlのシートに書き込む\n",
        "for r_idx, row in enumerate(dataframe_to_rows(grouped_df, index=False, header=True)):\n",
        "    ws.append(row)\n",
        "\n",
        "# ヘッダーに罫線と背景色を設定\n",
        "thin_border = Border(left=Side(style='thin'),\n",
        "                     right=Side(style='thin'),\n",
        "                     top=Side(style='thin'),\n",
        "                     bottom=Side(style='thin'))\n",
        "\n",
        "fill_color = PatternFill(start_color=\"F2F2F2\", end_color=\"F2F2F2\", fill_type=\"solid\")\n",
        "\n",
        "for cell in ws[1]:\n",
        "    cell.border = thin_border\n",
        "    cell.fill = fill_color\n",
        "\n",
        "# ファイルを保存\n",
        "output_file = '売上集計表.xlsx'\n",
        "wb.save(output_file)\n",
        "\n",
        "print(f\"データを連結・集計し、'{output_file}' に出力しました。ヘッダーに背景色を適用済みです。\")"
      ],
      "metadata": {
        "colab": {
          "base_uri": "https://localhost:8080/"
        },
        "id": "uuplA-sFan5Y",
        "outputId": "072f23d0-681b-4702-fbfc-03233a514702"
      },
      "execution_count": 2,
      "outputs": [
        {
          "output_type": "stream",
          "name": "stdout",
          "text": [
            "データを連結・集計し、'売上集計表.xlsx' に出力しました。ヘッダーに背景色を適用済みです。\n"
          ]
        }
      ]
    }
  ]
}